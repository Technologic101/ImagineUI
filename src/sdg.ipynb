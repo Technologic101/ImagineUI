{
 "cells": [
  {
   "cell_type": "markdown",
   "metadata": {},
   "source": [
    "## Let's create a golden test set with Synthetic Data Generation!"
   ]
  },
  {
   "cell_type": "code",
   "execution_count": 6,
   "metadata": {},
   "outputs": [
    {
     "name": "stdout",
     "output_type": "stream",
     "text": [
      "Loaded 141 documents\n",
      "\n",
      "Example document:\n",
      "Content: {\"id\": \"135\", \"url\": \"https://www.csszengarden.com/135\", \"css_url\": \"https://www.csszengarden.com/135/135.css\", \"description\": \"This design uses an elegant and traditional aesthetic, with a muted color palette featuring cream and terracotta tones. The use of a patterned background adds texture, while the vertical layout and serif typography provide a classic and sophisticated feel. The design balances text-heavy content with organized sections, making information easily accessible, and its ornate flourishes add a touch of refinement.\", \"categories\": [\"Traditional\", \"Elegant\", \"Text-Heavy\", \"Classic\"], \"visual_characteristics\": [\"Muted Color Palette\", \"Vertical Layout\", \"Serif Typography\", \"Textured Background\", \"Ornate Flourishes\"]}\n",
      "Metadata: {'source': '/Users/owner/Desktop/Projects/ai-maker-space/code/ImagineUI/src/data/designs/135/metadata.json', 'seq_num': 1, 'title': '', 'tags': []}\n"
     ]
    }
   ],
   "source": [
    "from langchain_community.document_loaders import DirectoryLoader\n",
    "from langchain_community.document_loaders import JSONLoader\n",
    "import json\n",
    "\n",
    "def metadata_func(record: dict, metadata: dict) -> dict:\n",
    "    metadata[\"title\"] = record.get(\"title\", \"\")\n",
    "    metadata[\"tags\"] = record.get(\"tags\", [])\n",
    "    return metadata\n",
    "\n",
    "loader = DirectoryLoader(\n",
    "    path=\"data/designs\",\n",
    "    glob=\"**/*.json\",\n",
    "    loader_cls=JSONLoader,\n",
    "    loader_kwargs={\n",
    "        \"jq_schema\": \".\",  # This will select the entire JSON object\n",
    "        \"content_key\": None,  # We're not selecting a specific content key\n",
    "        \"metadata_func\": metadata_func,\n",
    "        \"text_content\": False\n",
    "    }\n",
    ")\n",
    "\n",
    "documents = loader.load()\n",
    "\n",
    "print(f\"Loaded {len(documents)} documents\")\n",
    "if documents:\n",
    "    print(\"\\nExample document:\")\n",
    "    print(f\"Content: {documents[0].page_content}\")\n",
    "    print(f\"Metadata: {documents[0].metadata}\")\n"
   ]
  }
 ],
 "metadata": {
  "kernelspec": {
   "display_name": ".venv",
   "language": "python",
   "name": "python3"
  },
  "language_info": {
   "codemirror_mode": {
    "name": "ipython",
    "version": 3
   },
   "file_extension": ".py",
   "mimetype": "text/x-python",
   "name": "python",
   "nbconvert_exporter": "python",
   "pygments_lexer": "ipython3",
   "version": "3.11.11"
  }
 },
 "nbformat": 4,
 "nbformat_minor": 2
}

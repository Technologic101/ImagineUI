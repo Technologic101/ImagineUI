{
 "cells": [
  {
   "cell_type": "code",
   "execution_count": 1,
   "metadata": {},
   "outputs": [],
   "source": [
    "import os\n",
    "import getpass\n",
    "\n",
    "\n",
    "os.environ[\"OPENAI_API_KEY\"] = getpass.getpass(\"OpenAI API Key:\")"
   ]
  },
  {
   "cell_type": "markdown",
   "metadata": {},
   "source": [
    "Add tools later"
   ]
  },
  {
   "cell_type": "code",
   "execution_count": 1,
   "metadata": {},
   "outputs": [
    {
     "name": "stdout",
     "output_type": "stream",
     "text": [
      "Loaded 82 design documents\n",
      "Testing RAG retriever with requirements:\n",
      "----------------------------------------\n",
      "style_description: Modern minimalist design with clean lines\n",
      "key_elements: ['clean typography', 'white space', 'grid layout']\n",
      "color_scheme: Monochromatic with blue accents\n",
      "layout_preferences: Grid-based with clear hierarchy\n",
      "mood: Professional and sophisticated\n",
      "\n",
      "Retrieved Designs:\n",
      "----------------------------------------\n",
      "Generated query: Modern minimalist design with clean lines AND clean typography AND white space AND grid layout AND Monochromatic with blue accents AND Grid-based layout AND Professional AND sophisticated mood\n"
     ]
    },
    {
     "name": "stderr",
     "output_type": "stream",
     "text": [
      "/Users/owner/Desktop/Projects/ai-maker-space/code/ImagineUI/src/chains/design_rag.py:114: LangChainDeprecationWarning: The method `BaseRetriever.get_relevant_documents` was deprecated in langchain-core 0.1.46 and will be removed in 1.0. Use :meth:`~invoke` instead.\n",
      "  docs = self.retriever.get_relevant_documents(\n"
     ]
    },
    {
     "name": "stdout",
     "output_type": "stream",
     "text": [
      "Design 003:\n",
      "Design 003:\n",
      "Description: This design features a serene and calming aesthetic, employing a monochromatic blue-gray color palette that evokes a sense of tranquility. The layout is structured and organized, with a notable emphasis on clean typography and spaciousness. Each section is clearly delineated, contributing to an overall coherent and harmonious visual experience, while the soft textures in the background enhance the serene mood.\n",
      "Categories: minimalism, typography, print design, web interface, aesthetic design\n",
      "Visual Characteristics: monochromatic palette, serene mood, structured layout, clean typography, spaciousness\n",
      "\n",
      "Design 020:\n",
      "Design 020:\n",
      "Description: The design features a serene and professional layout with a muted color palette, emphasizing clean lines and minimalist aesthetics. It balances a centered, text-focused main content area with a sidebar offering functional navigation and supplementary information. The harmonious integration of serene imagery and subtle blue accents promotes a calm and reflective visual experience.\n",
      "Categories: minimalist design, web aesthetics, informational layout, professional tone, navigation focus\n",
      "Visual Characteristics: muted color palette, serene imagery, clean typography, balanced layout, subtle blue accents\n",
      "\n",
      "Design 217:\n",
      "Design 217:\n",
      "Description: The design embraces a minimalist and modern aesthetic with a refreshing color palette of soft blues, creams, and reds, highlighted by a structured layout that organizes content effectively into distinct sections. The typography is bold and clear, drawing attention to key headings while maintaining readability. The use of contrasting colors for different sections adds a dynamic feel to the design, and the sidebar provides easy navigation, enhancing user experience.\n",
      "Categories: Modern, Minimalist, Educational, Structured, Interactive\n",
      "Visual Characteristics: Bold typography, Contrasting colors, Organized layout, Clean lines, Effective use of white space\n",
      "\n",
      "Design 004:\n",
      "Design 004:\n",
      "Description: The design features a structured layout with a calming blue and white color scheme that conveys clarity and modernity. The large, fluid background image adds a touch of elegance, while the clear typography and organized sections contribute to the aesthetic appeal. Highlighted text links in green and orange draw attention, creating a dynamic yet harmonious look.\n",
      "Categories: Modern, Web Design, Instructional, Clean, Professional\n",
      "Visual Characteristics: Blue and White Palette, Fluid Background Image, Clear Typography, Highlighted Text Links, Structured Layout\n",
      "\n",
      "Design 203:\n",
      "Design 203:\n",
      "Description: This design offers a serene and minimalist aesthetic with a focus on clarity and enlightenment. Featuring a calming blue color palette highlighted by a water droplet image, it prioritizes clean typography and well-structured sections. The layout is vertical and spaced, creating a smooth flow from one section to the next, while the consistent use of blue tones reinforces a peaceful mood.\n",
      "Categories: Minimalism, Typography, Calm Aesthetic, Water Theme, Serenity\n",
      "Visual Characteristics: Blue Color Palette, Vertical Layout, Calming Imagery, Structured Sections, Clean Typography\n"
     ]
    }
   ],
   "source": [
    "#from tools.design_retriever import DesignRetrieverTool\n",
    "from chains.design_rag import DesignRAG\n",
    "\n",
    "# Initialize DesignRAG and create the tool\n",
    "design_rag = DesignRAG()\n",
    "#design_retriever = DesignRetrieverTool(rag=design_rag)\n",
    "\n",
    "test_requirements = {\n",
    "    \"style_description\": \"Modern minimalist design with clean lines\",\n",
    "    \"key_elements\": [\"clean typography\", \"white space\", \"grid layout\"],\n",
    "    \"color_scheme\": \"Monochromatic with blue accents\",\n",
    "    \"layout_preferences\": \"Grid-based with clear hierarchy\",\n",
    "    \"mood\": \"Professional and sophisticated\"\n",
    "}\n",
    "\n",
    "# Test the retriever\n",
    "async def test_rag():\n",
    "    print(\"Testing RAG retriever with requirements:\")\n",
    "    print(\"----------------------------------------\")\n",
    "    for key, value in test_requirements.items():\n",
    "        print(f\"{key}: {value}\")\n",
    "    print(\"\\nRetrieved Designs:\")\n",
    "    print(\"----------------------------------------\")\n",
    "    \n",
    "    results = await design_rag.query_similar_designs(test_requirements)\n",
    "    print(results)\n",
    "\n",
    "# Run the test\n",
    "await test_rag()\n"
   ]
  },
  {
   "cell_type": "markdown",
   "metadata": {},
   "source": [
    "Pick a model good for chat and tools"
   ]
  },
  {
   "cell_type": "code",
   "execution_count": null,
   "metadata": {},
   "outputs": [
    {
     "data": {
      "text/plain": [
       "RunnableBinding(bound=ChatOpenAI(client=<openai.resources.chat.completions.completions.Completions object at 0x1245518d0>, async_client=<openai.resources.chat.completions.completions.AsyncCompletions object at 0x124548e50>, root_client=<openai.OpenAI object at 0x1108f9310>, root_async_client=<openai.AsyncOpenAI object at 0x115d92090>, model_name='gpt-4o', temperature=0.0, model_kwargs={}, openai_api_key=SecretStr('**********'), streaming=True), kwargs={'tools': [{'type': 'function', 'function': {'name': 'design_retriever', 'description': 'Retrieves similar designs based on style requirements', 'parameters': {'properties': {'requirements': {'type': 'object'}, 'num_examples': {'default': 3, 'type': 'integer'}}, 'required': ['requirements'], 'type': 'object'}}}]}, config={}, config_factories=[])"
      ]
     },
     "execution_count": 11,
     "metadata": {},
     "output_type": "execute_result"
    }
   ],
   "source": [
    "from langchain_openai import ChatOpenAI\n",
    "\n",
    "model = ChatOpenAI(\n",
    "    model=\"gpt-4o\", \n",
    "    temperature=0,\n",
    "    streaming=True\n",
    ")\n",
    "\n",
    "model.bind_tools(tool_belt)"
   ]
  },
  {
   "cell_type": "markdown",
   "metadata": {},
   "source": [
    "Initialize state\n"
   ]
  },
  {
   "cell_type": "code",
   "execution_count": 12,
   "metadata": {},
   "outputs": [],
   "source": [
    "from typing import TypedDict, Annotated\n",
    "from langgraph.graph.message import add_messages\n",
    "\n",
    "class AgentState(TypedDict):\n",
    "  messages: Annotated[list, add_messages]"
   ]
  },
  {
   "cell_type": "markdown",
   "metadata": {},
   "source": [
    "Set up the nodes and graph\n"
   ]
  },
  {
   "cell_type": "code",
   "execution_count": 16,
   "metadata": {},
   "outputs": [],
   "source": [
    "from langgraph.prebuilt import ToolNode\n",
    "from langgraph.graph import StateGraph, END\n",
    "from langchain_core.messages import HumanMessage, SystemMessage\n",
    "\n",
    "system_message = SystemMessage(content=\"\"\"You are a helpful design assistant that can retrieve and analyze design examples. \n",
    "When a user describes their design preferences or requirements, use the design_retriever tool to find relevant examples.\n",
    "\n",
    "Always use the design_retriever tool when:\n",
    "- A user describes specific design requirements\n",
    "- A user asks to see similar designs\n",
    "- You need to find design inspiration based on user preferences\n",
    "\n",
    "Format the requirements as a dictionary with these keys:\n",
    "- style_description: Brief description of desired visual style\n",
    "- key_elements: List of important visual elements\n",
    "- color_scheme: Description of colors\n",
    "- layout_preferences: Layout requirements\n",
    "- mood: Desired emotional impact\n",
    "\"\"\")\n",
    "\n",
    "def call_model(state):\n",
    "  messages = [system_message] + state[\"messages\"]\n",
    "  response = model.invoke(messages)\n",
    "  return {\"messages\" : [response]}\n",
    "\n",
    "tool_node = ToolNode(tool_belt)\n",
    "\n",
    "uncompiled_graph = StateGraph(AgentState)\n",
    "\n",
    "uncompiled_graph.add_node(\"agent\", call_model)\n",
    "uncompiled_graph.add_node(\"action\", tool_node)\n",
    "uncompiled_graph.set_entry_point(\"agent\")\n",
    "\n",
    "\n",
    "def should_continue(state):\n",
    "  last_message = state[\"messages\"][-1]\n",
    "\n",
    "  if last_message.tool_calls:\n",
    "    return \"action\"\n",
    "\n",
    "  return END\n",
    "\n",
    "uncompiled_graph.add_conditional_edges(\n",
    "  \"agent\",\n",
    "  should_continue\n",
    ")\n",
    "uncompiled_graph.add_edge(\"action\", \"agent\")\n",
    "\n",
    "graph = uncompiled_graph.compile()\n",
    "\n",
    "#formatted chain\n",
    "\n",
    "def convert_inputs(input_object):\n",
    "  return {\"messages\" : [HumanMessage(content=input_object[\"question\"])]}\n",
    "\n",
    "def parse_output(input_state):\n",
    "  return input_state[\"messages\"][-1].content\n",
    "\n",
    "graph_chain = convert_inputs | graph | parse_output\n",
    "\n"
   ]
  },
  {
   "cell_type": "markdown",
   "metadata": {},
   "source": [
    "Try it out!"
   ]
  },
  {
   "cell_type": "code",
   "execution_count": null,
   "metadata": {},
   "outputs": [
    {
     "name": "stdout",
     "output_type": "stream",
     "text": [
      "Receiving update from node: 'agent'\n",
      "[AIMessage(content=\"Hello! I'm here and ready to help you with any design needs or questions you might have. How can I assist you today?\", additional_kwargs={}, response_metadata={'finish_reason': 'stop', 'model_name': 'gpt-4o-2024-08-06', 'system_fingerprint': 'fp_f9f4fb6dbf'}, id='run-4edce0b5-fdec-4d5d-a4a6-92430faca51a-0')]\n",
      "\n",
      "\n",
      "\n"
     ]
    }
   ],
   "source": [
    "from langchain_core.messages import HumanMessage\n",
    "\n",
    "async for chunk in graph.astream({\"messages\" : [HumanMessage(content=\"Hello, how are you?\")]}, stream_mode=\"updates\"):\n",
    "    for node, values in chunk.items():\n",
    "        print(f\"Receiving update from node: '{node}'\")\n",
    "        print(values[\"messages\"])\n",
    "        print(\"\\n\\n\")"
   ]
  },
  {
   "cell_type": "markdown",
   "metadata": {},
   "source": [
    "Let's see if the RAG tool works."
   ]
  },
  {
   "cell_type": "code",
   "execution_count": 18,
   "metadata": {},
   "outputs": [
    {
     "name": "stdout",
     "output_type": "stream",
     "text": [
      "Receiving update from node: 'agent'\n",
      "[AIMessage(content=\"To find a design that matches your description, I'll use the design_retriever tool. Here are the requirements based on your description:\\n\\n- style_description: Monochromatic with subtle accents\\n- key_elements: Grid-based layout, clear hierarchy\\n- color_scheme: Monochromatic with subtle accent colors\\n- layout_preferences: Grid-based\\n- mood: Professional and sophisticated\\n\\nLet's find some examples for you.\", additional_kwargs={}, response_metadata={'finish_reason': 'stop', 'model_name': 'gpt-4o-2024-08-06', 'system_fingerprint': 'fp_f9f4fb6dbf'}, id='run-8fa2e4af-671c-4c75-82fd-a7b3d6237e54-0')]\n",
      "\n",
      "\n",
      "\n"
     ]
    }
   ],
   "source": [
    "# Create a test message\n",
    "from langchain_core.messages import HumanMessage\n",
    "\n",
    "test_message = HumanMessage(\n",
    "    content=\"\"\"I want to see a design matching this description: \n",
    "    I want it to use a monochromatic color scheme with subtle accent colors. \n",
    "    The layout should be grid-based with clear hierarchy. \n",
    "    The overall mood should be professional and sophisticated.\"\"\"\n",
    ")\n",
    "\n",
    "async for chunk in graph.astream({\"messages\" : [test_message]}, stream_mode=\"updates\"):\n",
    "    for node, values in chunk.items():\n",
    "        print(f\"Receiving update from node: '{node}'\")\n",
    "        print(values[\"messages\"])\n",
    "        print(\"\\n\\n\")"
   ]
  }
 ],
 "metadata": {
  "kernelspec": {
   "display_name": ".venv",
   "language": "python",
   "name": "python3"
  },
  "language_info": {
   "codemirror_mode": {
    "name": "ipython",
    "version": 3
   },
   "file_extension": ".py",
   "mimetype": "text/x-python",
   "name": "python",
   "nbconvert_exporter": "python",
   "pygments_lexer": "ipython3",
   "version": "3.11.11"
  }
 },
 "nbformat": 4,
 "nbformat_minor": 2
}

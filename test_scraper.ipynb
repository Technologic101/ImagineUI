{
 "cells": [
  {
   "cell_type": "markdown",
   "metadata": {},
   "source": [
    "# Test CSS Zen Garden Scraper\n",
    "\n",
    "This notebook tests the functionality of our CSS Zen Garden scraper."
   ]
  },
  {
   "cell_type": "code",
   "execution_count": 1,
   "metadata": {},
   "outputs": [],
   "source": [
    "!playwright install chromium"
   ]
  },
  {
   "cell_type": "code",
   "execution_count": 1,
   "metadata": {},
   "outputs": [
    {
     "name": "stdout",
     "output_type": "stream",
     "text": [
      "Testing scraper with design 221...\n",
      "Success!\n"
     ]
    },
    {
     "name": "stderr",
     "output_type": "stream",
     "text": [
      "/var/folders/02/z250w46j5_514v22h_ct_zq40000gn/T/ipykernel_37704/2179274543.py:8: RuntimeWarning: coroutine 'scrape_design' was never awaited\n",
      "  scrape_design(test_design_id)\n",
      "RuntimeWarning: Enable tracemalloc to get the object allocation traceback\n"
     ]
    }
   ],
   "source": [
    "from scraper import scrape_design\n",
    "\n",
    "# Test with a single design first\n",
    "test_design_id = \"221\"\n",
    "\n",
    "try:\n",
    "    print(f\"Testing scraper with design {test_design_id}...\")\n",
    "    await scrape_design(test_design_id)\n",
    "    print(\"Success!\")\n",
    "except Exception as e:\n",
    "    print(f\"Error: {str(e)}\")"
   ]
  },
  {
   "cell_type": "code",
   "execution_count": 3,
   "metadata": {},
   "outputs": [
    {
     "name": "stdout",
     "output_type": "stream",
     "text": [
      "Files created:\n",
      "['metadata.json', 'style.css']\n",
      "\n",
      "Metadata:\n",
      "{\n",
      "  \"id\": \"221\",\n",
      "  \"author\": \"Dave Shea\",\n",
      "  \"url\": \"https://www.csszengarden.com/221\",\n",
      "  \"css_url\": \"https://www.csszengarden.com/221/221.css\"\n",
      "}\n"
     ]
    }
   ],
   "source": [
    "# If successful, let's check what we got\n",
    "import json\n",
    "import os\n",
    "\n",
    "design_dir = f\"designs/{test_design_id}\"\n",
    "print(\"Files created:\")\n",
    "print(os.listdir(design_dir))\n",
    "\n",
    "# Display metadata\n",
    "with open(f\"{design_dir}/metadata.json\") as f:\n",
    "    metadata = json.load(f)\n",
    "print(\"\\nMetadata:\")\n",
    "print(json.dumps(metadata, indent=2))"
   ]
  }
 ],
 "metadata": {
  "kernelspec": {
   "display_name": ".venv",
   "language": "python",
   "name": "python3"
  },
  "language_info": {
   "codemirror_mode": {
    "name": "ipython",
    "version": 3
   },
   "file_extension": ".py",
   "mimetype": "text/x-python",
   "name": "python",
   "nbconvert_exporter": "python",
   "pygments_lexer": "ipython3",
   "version": "3.11.11"
  }
 },
 "nbformat": 4,
 "nbformat_minor": 2
}

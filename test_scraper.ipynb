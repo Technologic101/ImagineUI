{
 "cells": [
  {
   "cell_type": "markdown",
   "metadata": {},
   "source": [
    "# Test CSS Zen Garden Scraper\n",
    "\n",
    "This notebook tests the functionality of our CSS Zen Garden scraper."
   ]
  },
  {
   "cell_type": "code",
   "execution_count": 2,
   "metadata": {},
   "outputs": [
    {
     "name": "stdout",
     "output_type": "stream",
     "text": [
      "Testing scraper with design 221...\n",
      "Response status: 200\n",
      "\n",
      "First 500 characters of response:\n",
      "<!DOCTYPE html>\n",
      "<html lang=\"en\">\n",
      "<head>\n",
      "\t<meta charset=\"utf-8\">\n",
      "\t<title>CSS Zen Garden: The Beauty of CSS Design</title>\n",
      "\n",
      "\t<link rel=\"stylesheet\" media=\"screen\" href=\"/221/221.css?v=8may2013\">\n",
      "\t<link rel=\"alternate\" type=\"application/rss+xml\" title=\"RSS\" href=\"http://www.csszengarden.com/zengarden.xml\">\n",
      "\n",
      "\t<meta name=\"viewport\" content=\"width=device-width, initial-scale=1.0\">\n",
      "\t<meta name=\"author\" content=\"Dave Shea\">\n",
      "\t<meta name=\"description\" content=\"A demonstration of what can be accomplished v\n",
      "\n",
      "Found elements:\n",
      "h1: <h1>CSS Zen Garden</h1>\n",
      "author: None\n",
      "author link: None\n",
      "Success!\n"
     ]
    }
   ],
   "source": [
    "from scraper import create_design_directory, save_css, save_metadata, take_screenshot, scrape_design\n",
    "\n",
    "# Test with a single design first\n",
    "test_design_id = \"221\"\n",
    "\n",
    "try:\n",
    "    print(f\"Testing scraper with design {test_design_id}...\")\n",
    "    scrape_design(test_design_id)\n",
    "    print(\"Success!\")\n",
    "except Exception as e:\n",
    "    print(f\"Error: {str(e)}\")"
   ]
  },
  {
   "cell_type": "code",
   "execution_count": null,
   "metadata": {},
   "outputs": [],
   "source": [
    "# If successful, let's check what we got\n",
    "import json\n",
    "import os\n",
    "\n",
    "design_dir = f\"designs/{test_design_id}\"\n",
    "print(\"Files created:\")\n",
    "print(os.listdir(design_dir))\n",
    "\n",
    "# Display metadata\n",
    "with open(f\"{design_dir}/metadata.json\") as f:\n",
    "    metadata = json.load(f)\n",
    "print(\"\\nMetadata:\")\n",
    "print(json.dumps(metadata, indent=2))"
   ]
  }
 ],
 "metadata": {
  "kernelspec": {
   "display_name": ".venv",
   "language": "python",
   "name": "python3"
  },
  "language_info": {
   "codemirror_mode": {
    "name": "ipython",
    "version": 3
   },
   "file_extension": ".py",
   "mimetype": "text/x-python",
   "name": "python",
   "nbconvert_exporter": "python",
   "pygments_lexer": "ipython3",
   "version": "3.11.11"
  }
 },
 "nbformat": 4,
 "nbformat_minor": 2
}

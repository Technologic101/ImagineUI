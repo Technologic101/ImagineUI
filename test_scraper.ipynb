{
 "cells": [
  {
   "cell_type": "markdown",
   "metadata": {},
   "source": [
    "# Test CSS Zen Garden Scraper\n",
    "\n",
    "This notebook tests the functionality of our CSS Zen Garden scraper."
   ]
  },
  {
   "cell_type": "code",
   "execution_count": 1,
   "metadata": {},
   "outputs": [],
   "source": [
    "!playwright install chromium"
   ]
  },
  {
   "cell_type": "code",
   "execution_count": 1,
   "metadata": {},
   "outputs": [
    {
     "name": "stdout",
     "output_type": "stream",
     "text": [
      "Testing scraper with design 220...\n",
      "Response status: 200\n",
      "\n",
      "Found elements:\n",
      "h1: CSS Zen Garden\n",
      "author: Dave Shea\n",
      "Success!\n",
      "Testing scraper with design 221...\n",
      "Response status: 200\n",
      "\n",
      "Found elements:\n",
      "h1: CSS Zen Garden\n",
      "author: Dave Shea\n",
      "Success!\n"
     ]
    }
   ],
   "source": [
    "from scraper import scrape_design\n",
    "import asyncio\n",
    "\n",
    "test_design_ids = [\"220\", \"221\"]\n",
    "\n",
    "async def test_scraper(ids):\n",
    "    for test_design_id in ids:\n",
    "        try:\n",
    "            print(f\"Testing scraper with design {test_design_id}...\")\n",
    "            await scrape_design(test_design_id)\n",
    "            print(\"Success!\")\n",
    "        except Exception as e:\n",
    "            print(f\"Error: {str(e)}\")\n",
    "\n",
    "asyncio.run(test_scraper(test_design_ids))"
   ]
  },
  {
   "cell_type": "code",
   "execution_count": 3,
   "metadata": {},
   "outputs": [
    {
     "name": "stdout",
     "output_type": "stream",
     "text": [
      "Files created:\n",
      "['metadata.json', 'style.css']\n",
      "\n",
      "Metadata:\n",
      "{\n",
      "  \"id\": \"221\",\n",
      "  \"author\": \"Dave Shea\",\n",
      "  \"url\": \"https://www.csszengarden.com/221\",\n",
      "  \"css_url\": \"https://www.csszengarden.com/221/221.css\"\n",
      "}\n"
     ]
    }
   ],
   "source": [
    "# If successful, let's check what we got\n",
    "import json\n",
    "import os\n",
    "\n",
    "for id in test_design_ids:\n",
    "    design_dir = f\"designs/{id}\"\n",
    "    print(\"Files created:\")\n",
    "    print(os.listdir(design_dir))\n",
    "\n",
    "    # Display metadata\n",
    "    with open(f\"{design_dir}/metadata.json\") as f:\n",
    "        metadata = json.load(f)\n",
    "    print(\"\\nMetadata:\")\n",
    "    print(json.dumps(metadata, indent=2))\n",
    "\n"
   ]
  }
 ],
 "metadata": {
  "kernelspec": {
   "display_name": ".venv",
   "language": "python",
   "name": "python3"
  },
  "language_info": {
   "codemirror_mode": {
    "name": "ipython",
    "version": 3
   },
   "file_extension": ".py",
   "mimetype": "text/x-python",
   "name": "python",
   "nbconvert_exporter": "python",
   "pygments_lexer": "ipython3",
   "version": "3.11.11"
  }
 },
 "nbformat": 4,
 "nbformat_minor": 2
}

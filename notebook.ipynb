{
 "cells": [
  {
   "cell_type": "markdown",
   "metadata": {},
   "source": [
    "# Zen Garden Design Analysis\n",
    "\n",
    "To collect our design data, we scrape csszengarden.com for design screenshots and associated styles. With over 200 designs, this should give us a good training set on how apply different styles and techniques."
   ]
  },
  {
   "cell_type": "code",
   "execution_count": 1,
   "metadata": {},
   "outputs": [
    {
     "name": "stdout",
     "output_type": "stream",
     "text": [
      "Testing scraper with design 010...\n",
      "010: Response status: 200\n",
      "Success!\n"
     ]
    }
   ],
   "source": [
    "from scraper import scrape_design\n",
    "import asyncio\n",
    "\n",
    "# Pick from a range of 001 to 221\n",
    "#test_set = [f\"{i:03d}\" for i in range(1, 21)]\n",
    "test_set = [\"010\"]\n",
    "async def test_scraper(ids):\n",
    "    for test_design_id in ids:\n",
    "        try:\n",
    "            print(f\"Testing scraper with design {test_design_id}...\")\n",
    "            await scrape_design(test_design_id)\n",
    "            print(\"Success!\")\n",
    "        except Exception as e:\n",
    "            print(f\"Error: {str(e)}\")\n",
    "\n",
    "await test_scraper(test_set)"
   ]
  },
  {
   "cell_type": "code",
   "execution_count": 1,
   "metadata": {},
   "outputs": [
    {
     "name": "stdout",
     "output_type": "stream",
     "text": [
      "Analyzing design 220...\n",
      "Type of response content: <class 'str'>\n",
      "Length of response content: 450\n",
      "Cleaned response for design 220: {\n",
      "    \"description\": \"The design is minimalistic with a focus on typography, subtle background elements, and a neutral color palette. It emphasizes a clean and organized layout, suitable for showcasing content-heavy pages such as articles or educational materials.\",\n",
      "    \"categories\": [\"Minimalism\", \"Typography-focused\"],\n",
      "    \"visual_characteristics\": [\"Neutral color palette\", \"Clean layout\", \"Subtle typography\", \"Organized content\"]\n",
      "}\n",
      "JSON parsed\n",
      "Successfully analyzed design 220\n",
      "\n",
      "Analysis for design 220:\n",
      "Description: The design is minimalistic with a focus on typography, subtle background elements, and a neutral color palette. It emphasizes a clean and organized layout, suitable for showcasing content-heavy pages such as articles or educational materials.\n",
      "Categories: Minimalism, Typography-focused\n",
      "Analyzing design 221...\n",
      "Type of response content: <class 'str'>\n",
      "Length of response content: 680\n",
      "Cleaned response for design 221: {\n",
      "    \"description\": \"The visual design features a bold, colorful layout with a mix of geometric shapes and high-contrast text blocks. It uses a playful color palette of purples, blues, oranges, and cream tones. The design is structured to guide the viewer's eye vertically and horizontally across sections with clear typography. It appears modern and suited for showcasing CSS design capabilities in a playful yet professional manner.\",\n",
      "    \"categories\": [\n",
      "        \"Modern\",\n",
      "        \"Playful\"\n",
      "    ],\n",
      "    \"visual_characteristics\": [\n",
      "        \"Bold colors\",\n",
      "        \"Geometric shapes\",\n",
      "        \"High-contrast typography\",\n",
      "        \"Vertical and horizontal layout\"\n",
      "    ]\n",
      "}\n",
      "JSON parsed\n",
      "Successfully analyzed design 221\n",
      "\n",
      "Analysis for design 221:\n",
      "Description: The visual design features a bold, colorful layout with a mix of geometric shapes and high-contrast text blocks. It uses a playful color palette of purples, blues, oranges, and cream tones. The design is structured to guide the viewer's eye vertically and horizontally across sections with clear typography. It appears modern and suited for showcasing CSS design capabilities in a playful yet professional manner.\n",
      "Categories: Modern, Playful\n"
     ]
    }
   ],
   "source": [
    "from analyze_designs import analyze_screenshot\n",
    "from pathlib import Path\n",
    "import asyncio\n",
    "\n",
    "async def test_analyzer():\n",
    "    for design_id in test_set:\n",
    "        design_path = Path(f\"designs/{design_id}\")\n",
    "        result = await analyze_screenshot(design_id, design_path)\n",
    "        \n",
    "        if result[1] is not None:  # If analysis was successful\n",
    "            print(f\"\\nAnalysis for design {design_id}:\")\n",
    "            print(f\"Description: {result[1]}\")\n",
    "            print(f\"Categories: {', '.join(result[2])}\")\n",
    "            print(f\"Visual Characteristics: {', '.join(result[3])}\")\n",
    "\n",
    "await test_analyzer()"
   ]
  }
 ],
 "metadata": {
  "kernelspec": {
   "display_name": ".venv",
   "language": "python",
   "name": "python3"
  },
  "language_info": {
   "codemirror_mode": {
    "name": "ipython",
    "version": 3
   },
   "file_extension": ".py",
   "mimetype": "text/x-python",
   "name": "python",
   "nbconvert_exporter": "python",
   "pygments_lexer": "ipython3",
   "version": "3.11.11"
  }
 },
 "nbformat": 4,
 "nbformat_minor": 2
}

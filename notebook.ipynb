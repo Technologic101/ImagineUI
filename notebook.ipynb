{
 "cells": [
  {
   "cell_type": "markdown",
   "metadata": {},
   "source": [
    "# Zen Garden Design Analysis\n",
    "\n",
    "## 1. Scrape\n",
    "\n",
    "To collect our design data, we scrape csszengarden.com for design screenshots and associated styles. With over 200 designs, this should give us a good training set on how apply different styles and techniques."
   ]
  },
  {
   "cell_type": "code",
   "execution_count": 1,
   "metadata": {},
   "outputs": [
    {
     "name": "stdout",
     "output_type": "stream",
     "text": [
      "Testing scraper with design 010...\n",
      "010: Response status: 200\n",
      "Success!\n"
     ]
    }
   ],
   "source": [
    "from scraper import scrape_design\n",
    "import asyncio\n",
    "\n",
    "# Pick from a range of 001 to 221\n",
    "#test_set = [f\"{i:03d}\" for i in range(1, 21)]\n",
    "test_set = [\"010\"]\n",
    "async def test_scraper(ids):\n",
    "    for test_design_id in ids:\n",
    "        try:\n",
    "            print(f\"Testing scraper with design {test_design_id}...\")\n",
    "            await scrape_design(test_design_id)\n",
    "            print(\"Success!\")\n",
    "        except Exception as e:\n",
    "            print(f\"Error: {str(e)}\")\n",
    "\n",
    "await test_scraper(test_set)"
   ]
  },
  {
   "cell_type": "markdown",
   "metadata": {},
   "source": [
    "## 2. Analyze\n",
    "\n",
    "Now, using the screenshots and styles we downloaded, we analyze the design for characteristics that will be useful for retrieval."
   ]
  },
  {
   "cell_type": "code",
   "execution_count": 2,
   "metadata": {},
   "outputs": [
    {
     "name": "stdout",
     "output_type": "stream",
     "text": [
      "Analyzing design 010...\n",
      "Successfully analyzed design 010\n",
      "\n",
      "Analysis for design 010:\n",
      "Description: The design features a harmonious combination of earthy tones and soft gradients, creating a serene and inviting atmosphere. The layout leverages clear headings and subheadings for readability while integrating subtle decorative elements for visual interest. Functionally, the design is divided into a main content area and a sidebar, enhancing navigability.\n",
      "Categories: Web Design, Educational, Inspirational, Aesthetic, Textual\n",
      "Visual Characteristics: Earthy Color Palette, Soft Gradients, Informative Layout, Balanced Composition, Text-focused Design\n"
     ]
    }
   ],
   "source": [
    "from analyze_designs import analyze_screenshot\n",
    "from pathlib import Path\n",
    "import asyncio\n",
    "\n",
    "async def test_analyzer():\n",
    "    for design_id in test_set:\n",
    "        design_path = Path(f\"designs/{design_id}\")\n",
    "        result = await analyze_screenshot(design_id, design_path)\n",
    "        \n",
    "        if result[1] is not None:  # If analysis was successful\n",
    "            print(f\"\\nAnalysis for design {design_id}:\")\n",
    "            print(f\"Description: {result[1]}\")\n",
    "            print(f\"Categories: {', '.join(result[2])}\")\n",
    "            print(f\"Visual Characteristics: {', '.join(result[3])}\")\n",
    "\n",
    "await test_analyzer()"
   ]
  }
 ],
 "metadata": {
  "kernelspec": {
   "display_name": ".venv",
   "language": "python",
   "name": "python3"
  },
  "language_info": {
   "codemirror_mode": {
    "name": "ipython",
    "version": 3
   },
   "file_extension": ".py",
   "mimetype": "text/x-python",
   "name": "python",
   "nbconvert_exporter": "python",
   "pygments_lexer": "ipython3",
   "version": "3.11.11"
  }
 },
 "nbformat": 4,
 "nbformat_minor": 2
}

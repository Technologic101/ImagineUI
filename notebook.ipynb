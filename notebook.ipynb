{
 "cells": [
  {
   "cell_type": "markdown",
   "metadata": {},
   "source": [
    "# CSS Zen Garden Scraper\n",
    "\n",
    "This notebook scrapes CSS Zen Garden designs and captures screenshots at different viewport sizes."
   ]
  },
  {
   "cell_type": "code",
   "execution_count": 1,
   "metadata": {},
   "outputs": [],
   "source": [
    "# Setup and imports\n",
    "import asyncio\n",
    "from playwright.async_api import async_playwright\n",
    "import os\n",
    "import json\n",
    "from bs4 import BeautifulSoup\n",
    "import requests\n",
    "from pathlib import Path\n",
    "import pandas as pd\n",
    "from typing import List, Dict, Any"
   ]
  },
  {
   "cell_type": "code",
   "execution_count": null,
   "metadata": {},
   "outputs": [],
   "source": [
    "# Create directories\n",
    "BASE_DIR = Path('zen_garden_data')\n",
    "SCREENSHOTS_DIR = BASE_DIR / 'screenshots'\n",
    "CSS_DIR = BASE_DIR / 'css'\n",
    "METADATA_DIR = BASE_DIR / 'metadata'\n",
    "\n",
    "for dir_path in [BASE_DIR, SCREENSHOTS_DIR, CSS_DIR, METADATA_DIR]:\n",
    "    dir_path.mkdir(parents=True, exist_ok=True)"
   ]
  }
 ],
 "metadata": {
  "kernelspec": {
   "display_name": ".venv",
   "language": "python",
   "name": "python3"
  },
  "language_info": {
   "codemirror_mode": {
    "name": "ipython",
    "version": 3
   },
   "file_extension": ".py",
   "mimetype": "text/x-python",
   "name": "python",
   "nbconvert_exporter": "python",
   "pygments_lexer": "ipython3",
   "version": "3.11.11"
  }
 },
 "nbformat": 4,
 "nbformat_minor": 2
}
